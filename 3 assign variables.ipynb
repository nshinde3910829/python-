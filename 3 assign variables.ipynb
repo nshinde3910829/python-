{
 "cells": [
  {
   "cell_type": "markdown",
   "metadata": {
    "application/vnd.databricks.v1+cell": {
     "cellMetadata": {},
     "inputWidgets": {},
     "nuid": "9266e11b-077a-4734-94db-d61a49f85947",
     "showTitle": false,
     "tableResultSettingsMap": {},
     "title": ""
    }
   },
   "source": [
    "## assign values"
   ]
  },
  {
   "cell_type": "code",
   "execution_count": 0,
   "metadata": {
    "application/vnd.databricks.v1+cell": {
     "cellMetadata": {
      "byteLimit": 2048000,
      "rowLimit": 10000
     },
     "inputWidgets": {},
     "nuid": "ed2cc58d-bdf2-4de4-bca2-e95eb66c2638",
     "showTitle": false,
     "tableResultSettingsMap": {},
     "title": ""
    }
   },
   "outputs": [],
   "source": [
    "print('here a value is 100 and b value is 200')\n",
    "a = 100\n",
    "b = 200\n",
    "print(a)\n",
    "print(b)\n",
    "print(a,b)\n",
    "\n",
    "print('here a and b swaping there values')\n",
    "a,b = b,a\n",
    "print(a)\n",
    "print(b)\n",
    "\n",
    "print('here we assign multiple values at once')\n",
    "a,b = 400,500\n",
    "print(a)\n",
    "print(b)\n",
    "\n",
    "print('here value of b store in a')\n",
    "a = b\n",
    "print(a)\n",
    "print(b)"
   ]
  }
 ],
 "metadata": {
  "application/vnd.databricks.v1+notebook": {
   "computePreferences": null,
   "dashboards": [],
   "environmentMetadata": {
    "base_environment": "",
    "environment_version": "2"
   },
   "inputWidgetPreferences": null,
   "language": "python",
   "notebookMetadata": {
    "pythonIndentUnit": 4
   },
   "notebookName": "3 assign variables",
   "widgets": {}
  },
  "language_info": {
   "name": "python"
  }
 },
 "nbformat": 4,
 "nbformat_minor": 0
}
